{
 "cells": [
  {
   "cell_type": "code",
   "execution_count": 4,
   "metadata": {},
   "outputs": [],
   "source": [
    "class Foo: \n",
    "    def __init__(self, bar): \n",
    "        self.bar = bar\n",
    "    \n",
    "    def __repr__(self):\n",
    "        #Foo(\"bar\")\n",
    "        return f\"\"\"Foo({self.bar!r})\"\"\""
   ]
  },
  {
   "cell_type": "code",
   "execution_count": 6,
   "metadata": {},
   "outputs": [],
   "source": [
    "f = Foo(\"Hello\")\n",
    "g = Foo(\"Grandma's house\")\n",
    "h = Foo(r\"C:\\ drive\")"
   ]
  },
  {
   "cell_type": "code",
   "execution_count": 12,
   "metadata": {},
   "outputs": [
    {
     "name": "stdout",
     "output_type": "stream",
     "text": [
      "Foo('Hello')\n",
      "Foo('Hello')\n",
      "Foo('Hello')\n"
     ]
    }
   ],
   "source": [
    "print(f)\n",
    "print(repr(f))\n",
    "print(f\"{f!r}\")"
   ]
  },
  {
   "cell_type": "code",
   "execution_count": 11,
   "metadata": {},
   "outputs": [
    {
     "name": "stdout",
     "output_type": "stream",
     "text": [
      "Foo(\"Grandma's house\")\n"
     ]
    }
   ],
   "source": [
    "print(g)"
   ]
  },
  {
   "cell_type": "code",
   "execution_count": 13,
   "metadata": {},
   "outputs": [
    {
     "name": "stdout",
     "output_type": "stream",
     "text": [
      "Foo('C:\\\\ drive')\n"
     ]
    }
   ],
   "source": [
    "print(h)"
   ]
  },
  {
   "cell_type": "code",
   "execution_count": 15,
   "metadata": {},
   "outputs": [],
   "source": [
    "import pandas as pd"
   ]
  },
  {
   "cell_type": "code",
   "execution_count": 16,
   "metadata": {},
   "outputs": [
    {
     "data": {
      "text/html": [
       "<div>\n",
       "<style scoped>\n",
       "    .dataframe tbody tr th:only-of-type {\n",
       "        vertical-align: middle;\n",
       "    }\n",
       "\n",
       "    .dataframe tbody tr th {\n",
       "        vertical-align: top;\n",
       "    }\n",
       "\n",
       "    .dataframe thead th {\n",
       "        text-align: right;\n",
       "    }\n",
       "</style>\n",
       "<table border=\"1\" class=\"dataframe\">\n",
       "  <thead>\n",
       "    <tr style=\"text-align: right;\">\n",
       "      <th></th>\n",
       "      <th>Name</th>\n",
       "      <th>Birth year</th>\n",
       "      <th>Height</th>\n",
       "      <th>Weight</th>\n",
       "    </tr>\n",
       "  </thead>\n",
       "  <tbody>\n",
       "    <tr>\n",
       "      <th>0</th>\n",
       "      <td>Aerchenghazi XIAKAINI</td>\n",
       "      <td>1995</td>\n",
       "      <td>1.85</td>\n",
       "      <td>83</td>\n",
       "    </tr>\n",
       "    <tr>\n",
       "      <th>1</th>\n",
       "      <td>Aleksandr LEBEDEV</td>\n",
       "      <td>1987</td>\n",
       "      <td>1.78</td>\n",
       "      <td>70</td>\n",
       "    </tr>\n",
       "    <tr>\n",
       "      <th>2</th>\n",
       "      <td>Aleksandr ZHIGIN</td>\n",
       "      <td>1986</td>\n",
       "      <td>1.80</td>\n",
       "      <td>80</td>\n",
       "    </tr>\n",
       "    <tr>\n",
       "      <th>3</th>\n",
       "      <td>Aleksey SUVOROV</td>\n",
       "      <td>1991</td>\n",
       "      <td>1.80</td>\n",
       "      <td>80</td>\n",
       "    </tr>\n",
       "    <tr>\n",
       "      <th>4</th>\n",
       "      <td>Aleksey YESIN</td>\n",
       "      <td>1987</td>\n",
       "      <td>1.78</td>\n",
       "      <td>85</td>\n",
       "    </tr>\n",
       "  </tbody>\n",
       "</table>\n",
       "</div>"
      ],
      "text/plain": [
       "                    Name  Birth year  Height  Weight\n",
       "0  Aerchenghazi XIAKAINI        1995    1.85      83\n",
       "1      Aleksandr LEBEDEV        1987    1.78      70\n",
       "2       Aleksandr ZHIGIN        1986    1.80      80\n",
       "3        Aleksey SUVOROV        1991    1.80      80\n",
       "4          Aleksey YESIN        1987    1.78      85"
      ]
     },
     "execution_count": 16,
     "metadata": {},
     "output_type": "execute_result"
    }
   ],
   "source": [
    "df_athletes = pd.read_csv(\"speed_skaters.csv\")\n",
    "df_athletes.head()"
   ]
  },
  {
   "cell_type": "code",
   "execution_count": 17,
   "metadata": {},
   "outputs": [],
   "source": [
    "filenames = [\"mens1500_2006.csv\", \"mens1500_2010.csv\", \"mens1500_2014.csv\", \"mens1500_2018.csv\"]\n",
    "result_list = [pd.read_csv(fname) for fname in filenames]\n",
    "df_results = pd.concat(result_list)"
   ]
  },
  {
   "cell_type": "code",
   "execution_count": 18,
   "metadata": {},
   "outputs": [],
   "source": [
    "df_results = pd.concat(\n",
    "    [pd.read_csv(fn) for fn in [\"mens1500_2006.csv\", \"mens1500_2010.csv\", \"mens1500_2014.csv\", \"mens1500_2018.csv\"]]\n",
    ")"
   ]
  },
  {
   "cell_type": "code",
   "execution_count": 19,
   "metadata": {},
   "outputs": [
    {
     "data": {
      "text/html": [
       "<div>\n",
       "<style scoped>\n",
       "    .dataframe tbody tr th:only-of-type {\n",
       "        vertical-align: middle;\n",
       "    }\n",
       "\n",
       "    .dataframe tbody tr th {\n",
       "        vertical-align: top;\n",
       "    }\n",
       "\n",
       "    .dataframe thead th {\n",
       "        text-align: right;\n",
       "    }\n",
       "</style>\n",
       "<table border=\"1\" class=\"dataframe\">\n",
       "  <thead>\n",
       "    <tr style=\"text-align: right;\">\n",
       "      <th></th>\n",
       "      <th>Rank</th>\n",
       "      <th>Athlete</th>\n",
       "      <th>Country</th>\n",
       "      <th>Result</th>\n",
       "      <th>Finished</th>\n",
       "      <th>Year</th>\n",
       "    </tr>\n",
       "  </thead>\n",
       "  <tbody>\n",
       "    <tr>\n",
       "      <th>0</th>\n",
       "      <td>1.0</td>\n",
       "      <td>Enrico FABRIS</td>\n",
       "      <td>ITA</td>\n",
       "      <td>01:45.97</td>\n",
       "      <td>1</td>\n",
       "      <td>2006</td>\n",
       "    </tr>\n",
       "    <tr>\n",
       "      <th>1</th>\n",
       "      <td>2.0</td>\n",
       "      <td>Shani DAVIS</td>\n",
       "      <td>USA</td>\n",
       "      <td>01:46.13</td>\n",
       "      <td>1</td>\n",
       "      <td>2006</td>\n",
       "    </tr>\n",
       "    <tr>\n",
       "      <th>2</th>\n",
       "      <td>3.0</td>\n",
       "      <td>Chad HEDRICK</td>\n",
       "      <td>USA</td>\n",
       "      <td>01:46.22</td>\n",
       "      <td>1</td>\n",
       "      <td>2006</td>\n",
       "    </tr>\n",
       "    <tr>\n",
       "      <th>3</th>\n",
       "      <td>4.0</td>\n",
       "      <td>Simon KUIPERS</td>\n",
       "      <td>NED</td>\n",
       "      <td>01:46.58</td>\n",
       "      <td>1</td>\n",
       "      <td>2006</td>\n",
       "    </tr>\n",
       "    <tr>\n",
       "      <th>4</th>\n",
       "      <td>5.0</td>\n",
       "      <td>Erben WENNEMARS</td>\n",
       "      <td>NED</td>\n",
       "      <td>01:46.71</td>\n",
       "      <td>1</td>\n",
       "      <td>2006</td>\n",
       "    </tr>\n",
       "  </tbody>\n",
       "</table>\n",
       "</div>"
      ],
      "text/plain": [
       "   Rank          Athlete Country    Result  Finished  Year\n",
       "0   1.0    Enrico FABRIS     ITA  01:45.97         1  2006\n",
       "1   2.0      Shani DAVIS     USA  01:46.13         1  2006\n",
       "2   3.0     Chad HEDRICK     USA  01:46.22         1  2006\n",
       "3   4.0    Simon KUIPERS     NED  01:46.58         1  2006\n",
       "4   5.0  Erben WENNEMARS     NED  01:46.71         1  2006"
      ]
     },
     "execution_count": 19,
     "metadata": {},
     "output_type": "execute_result"
    }
   ],
   "source": [
    "df_results.head()"
   ]
  },
  {
   "cell_type": "code",
   "execution_count": 25,
   "metadata": {},
   "outputs": [],
   "source": [
    "df = pd.merge(df_athletes, df_results, \n",
    "              left_on=\"Name\", right_on=\"Athlete\", \n",
    "              how=\"inner\").drop(\"Name\", axis =1)"
   ]
  },
  {
   "cell_type": "code",
   "execution_count": 26,
   "metadata": {},
   "outputs": [
    {
     "data": {
      "text/html": [
       "<div>\n",
       "<style scoped>\n",
       "    .dataframe tbody tr th:only-of-type {\n",
       "        vertical-align: middle;\n",
       "    }\n",
       "\n",
       "    .dataframe tbody tr th {\n",
       "        vertical-align: top;\n",
       "    }\n",
       "\n",
       "    .dataframe thead th {\n",
       "        text-align: right;\n",
       "    }\n",
       "</style>\n",
       "<table border=\"1\" class=\"dataframe\">\n",
       "  <thead>\n",
       "    <tr style=\"text-align: right;\">\n",
       "      <th></th>\n",
       "      <th>Birth year</th>\n",
       "      <th>Height</th>\n",
       "      <th>Weight</th>\n",
       "      <th>Rank</th>\n",
       "      <th>Athlete</th>\n",
       "      <th>Country</th>\n",
       "      <th>Result</th>\n",
       "      <th>Finished</th>\n",
       "      <th>Year</th>\n",
       "    </tr>\n",
       "  </thead>\n",
       "  <tbody>\n",
       "    <tr>\n",
       "      <th>0</th>\n",
       "      <td>1995</td>\n",
       "      <td>1.85</td>\n",
       "      <td>83</td>\n",
       "      <td>32.0</td>\n",
       "      <td>Aerchenghazi XIAKAINI</td>\n",
       "      <td>CHN</td>\n",
       "      <td>01:50.16</td>\n",
       "      <td>1</td>\n",
       "      <td>2018</td>\n",
       "    </tr>\n",
       "    <tr>\n",
       "      <th>1</th>\n",
       "      <td>1987</td>\n",
       "      <td>1.78</td>\n",
       "      <td>70</td>\n",
       "      <td>36.0</td>\n",
       "      <td>Aleksandr LEBEDEV</td>\n",
       "      <td>RUS</td>\n",
       "      <td>01:52.09</td>\n",
       "      <td>1</td>\n",
       "      <td>2010</td>\n",
       "    </tr>\n",
       "    <tr>\n",
       "      <th>2</th>\n",
       "      <td>1986</td>\n",
       "      <td>1.80</td>\n",
       "      <td>80</td>\n",
       "      <td>34.0</td>\n",
       "      <td>Aleksandr ZHIGIN</td>\n",
       "      <td>KAZ</td>\n",
       "      <td>01:49.48</td>\n",
       "      <td>1</td>\n",
       "      <td>2014</td>\n",
       "    </tr>\n",
       "    <tr>\n",
       "      <th>3</th>\n",
       "      <td>1991</td>\n",
       "      <td>1.80</td>\n",
       "      <td>80</td>\n",
       "      <td>25.0</td>\n",
       "      <td>Aleksey SUVOROV</td>\n",
       "      <td>RUS</td>\n",
       "      <td>01:48.11</td>\n",
       "      <td>1</td>\n",
       "      <td>2014</td>\n",
       "    </tr>\n",
       "    <tr>\n",
       "      <th>4</th>\n",
       "      <td>1987</td>\n",
       "      <td>1.78</td>\n",
       "      <td>85</td>\n",
       "      <td>21.0</td>\n",
       "      <td>Aleksey YESIN</td>\n",
       "      <td>RUS</td>\n",
       "      <td>01:48.65</td>\n",
       "      <td>1</td>\n",
       "      <td>2010</td>\n",
       "    </tr>\n",
       "  </tbody>\n",
       "</table>\n",
       "</div>"
      ],
      "text/plain": [
       "   Birth year  Height  Weight  Rank                Athlete Country    Result  \\\n",
       "0        1995    1.85      83  32.0  Aerchenghazi XIAKAINI     CHN  01:50.16   \n",
       "1        1987    1.78      70  36.0      Aleksandr LEBEDEV     RUS  01:52.09   \n",
       "2        1986    1.80      80  34.0       Aleksandr ZHIGIN     KAZ  01:49.48   \n",
       "3        1991    1.80      80  25.0        Aleksey SUVOROV     RUS  01:48.11   \n",
       "4        1987    1.78      85  21.0          Aleksey YESIN     RUS  01:48.65   \n",
       "\n",
       "   Finished  Year  \n",
       "0         1  2018  \n",
       "1         1  2010  \n",
       "2         1  2014  \n",
       "3         1  2014  \n",
       "4         1  2010  "
      ]
     },
     "execution_count": 26,
     "metadata": {},
     "output_type": "execute_result"
    }
   ],
   "source": [
    "df.head()"
   ]
  },
  {
   "cell_type": "code",
   "execution_count": 28,
   "metadata": {},
   "outputs": [
    {
     "data": {
      "text/html": [
       "<div>\n",
       "<style scoped>\n",
       "    .dataframe tbody tr th:only-of-type {\n",
       "        vertical-align: middle;\n",
       "    }\n",
       "\n",
       "    .dataframe tbody tr th {\n",
       "        vertical-align: top;\n",
       "    }\n",
       "\n",
       "    .dataframe thead th {\n",
       "        text-align: right;\n",
       "    }\n",
       "</style>\n",
       "<table border=\"1\" class=\"dataframe\">\n",
       "  <thead>\n",
       "    <tr style=\"text-align: right;\">\n",
       "      <th></th>\n",
       "      <th>Birth year</th>\n",
       "      <th>Height</th>\n",
       "      <th>Weight</th>\n",
       "      <th>Rank</th>\n",
       "      <th>Athlete</th>\n",
       "      <th>Country</th>\n",
       "      <th>Result</th>\n",
       "      <th>Finished</th>\n",
       "      <th>Year</th>\n",
       "    </tr>\n",
       "  </thead>\n",
       "  <tbody>\n",
       "    <tr>\n",
       "      <th>71</th>\n",
       "      <td>1990</td>\n",
       "      <td>1.83</td>\n",
       "      <td>79</td>\n",
       "      <td>37.0</td>\n",
       "      <td>Jonathan KUCK</td>\n",
       "      <td>USA</td>\n",
       "      <td>01:50.19</td>\n",
       "      <td>1</td>\n",
       "      <td>2014</td>\n",
       "    </tr>\n",
       "    <tr>\n",
       "      <th>84</th>\n",
       "      <td>1986</td>\n",
       "      <td>1.73</td>\n",
       "      <td>78</td>\n",
       "      <td>22.0</td>\n",
       "      <td>Joey MANTIA</td>\n",
       "      <td>USA</td>\n",
       "      <td>01:48.01</td>\n",
       "      <td>1</td>\n",
       "      <td>2014</td>\n",
       "    </tr>\n",
       "  </tbody>\n",
       "</table>\n",
       "</div>"
      ],
      "text/plain": [
       "    Birth year  Height  Weight  Rank        Athlete Country    Result  \\\n",
       "71        1990    1.83      79  37.0  Jonathan KUCK     USA  01:50.19   \n",
       "84        1986    1.73      78  22.0    Joey MANTIA     USA  01:48.01   \n",
       "\n",
       "    Finished  Year  \n",
       "71         1  2014  \n",
       "84         1  2014  "
      ]
     },
     "execution_count": 28,
     "metadata": {},
     "output_type": "execute_result"
    }
   ],
   "source": [
    "df[(df[\"Rank\"] > 20) & (df[\"Country\"] == \"USA\")]"
   ]
  },
  {
   "cell_type": "code",
   "execution_count": 31,
   "metadata": {},
   "outputs": [
    {
     "data": {
      "text/plain": [
       "Country\n",
       "BEL    1.800000\n",
       "CAN    1.823333\n",
       "CHN    1.845000\n",
       "EST    1.820000\n",
       "FIN    1.880000\n",
       "FRA    1.807500\n",
       "GER    1.832857\n",
       "HUN    1.880000\n",
       "ITA    1.834444\n",
       "JPN    1.746000\n",
       "KAZ    1.828750\n",
       "KOR    1.783333\n",
       "LAT    1.780000\n",
       "NED    1.841333\n",
       "NOR    1.834667\n",
       "NZL    1.790000\n",
       "OAR    1.840000\n",
       "POL    1.810000\n",
       "RUS    1.836667\n",
       "SUI    1.750000\n",
       "SWE    1.842000\n",
       "TPE    1.740000\n",
       "USA    1.799333\n",
       "Name: Height, dtype: float64"
      ]
     },
     "execution_count": 31,
     "metadata": {},
     "output_type": "execute_result"
    }
   ],
   "source": [
    "df.groupby(\"Country\")[\"Height\"].mean()"
   ]
  },
  {
   "cell_type": "code",
   "execution_count": 35,
   "metadata": {},
   "outputs": [
    {
     "data": {
      "text/plain": [
       "Country\n",
       "TPE    1.740\n",
       "SUI    1.750\n",
       "JPN    1.755\n",
       "BEL    1.780\n",
       "LAT    1.780\n",
       "KOR    1.780\n",
       "NZL    1.790\n",
       "POL    1.800\n",
       "NOR    1.820\n",
       "EST    1.820\n",
       "CHN    1.825\n",
       "FRA    1.825\n",
       "SWE    1.830\n",
       "CAN    1.830\n",
       "GER    1.830\n",
       "USA    1.830\n",
       "KAZ    1.835\n",
       "OAR    1.840\n",
       "NED    1.840\n",
       "RUS    1.850\n",
       "ITA    1.850\n",
       "FIN    1.880\n",
       "HUN    1.880\n",
       "Name: Height, dtype: float64"
      ]
     },
     "execution_count": 35,
     "metadata": {},
     "output_type": "execute_result"
    }
   ],
   "source": [
    "df.groupby(\"Country\")[\"Height\"].median().sort_values()"
   ]
  },
  {
   "cell_type": "code",
   "execution_count": 37,
   "metadata": {},
   "outputs": [
    {
     "data": {
      "text/plain": [
       "Year\n",
       "2006    64\n",
       "2010    70\n",
       "2014    67\n",
       "2018    65\n",
       "Name: Weight, dtype: int64"
      ]
     },
     "execution_count": 37,
     "metadata": {},
     "output_type": "execute_result"
    }
   ],
   "source": [
    "df.groupby(\"Year\")[\"Weight\"].min()"
   ]
  },
  {
   "cell_type": "code",
   "execution_count": null,
   "metadata": {},
   "outputs": [],
   "source": []
  }
 ],
 "metadata": {
  "kernelspec": {
   "display_name": "Python 3",
   "language": "python",
   "name": "python3"
  },
  "language_info": {
   "codemirror_mode": {
    "name": "ipython",
    "version": 3
   },
   "file_extension": ".py",
   "mimetype": "text/x-python",
   "name": "python",
   "nbconvert_exporter": "python",
   "pygments_lexer": "ipython3",
   "version": "3.8.5"
  }
 },
 "nbformat": 4,
 "nbformat_minor": 4
}
