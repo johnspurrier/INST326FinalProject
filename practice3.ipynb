{
 "cells": [
  {
   "cell_type": "markdown",
   "source": [
    "# Assert Statements:\n",
    "\n",
    "Assert statements are used to tell python to verify and expression. If it evaluates to True the program continues, if not an AssertionError is raised. Assert statements can be used with functions like abs() and .isclose() \n",
    "\n",
    "Syntax: \n",
    "1. assert EXPRESSION\n",
    "2. assert EXPRESSION, ERROR_MSG"
   ],
   "metadata": {}
  },
  {
   "cell_type": "code",
   "execution_count": 5,
   "source": [
    "assert 2 ** 4 == 16\n",
    "assert 2 ** 4 == 16, \"2 ** 4 returned unexpected result\""
   ],
   "outputs": [],
   "metadata": {}
  },
  {
   "cell_type": "markdown",
   "source": [
    "# Testing Floating-Point Values with math.isclose():\n",
    "a method to check if two values are close to each other or not. returns True if yes and False if no. \n",
    "\n",
    "can be used with assert statements"
   ],
   "metadata": {}
  },
  {
   "cell_type": "code",
   "execution_count": 6,
   "source": [
    "from math import isclose \n",
    "my_float = (2/6)/6\n",
    "assert isclose(my_float, 0.0555555) <= 0.00000001"
   ],
   "outputs": [],
   "metadata": {}
  },
  {
   "cell_type": "markdown",
   "source": [
    "# Import Statements:\n",
    "allow us to access code in a module, comes in different flavors. \n",
    "\n",
    "syntax: \n",
    "1. import MODULENAME\n",
    "2. import MODULENAME as OTHERNAME\n",
    "3. from MODULENAME import OBJECT\n",
    "4. from MODULENAME import OBJECT as OTHERNAME\n",
    "5. from MODULENAME import * \n",
    "\n",
    "flavor 5 is fine to use for quick tests but a bad idea for longer code"
   ],
   "metadata": {}
  },
  {
   "cell_type": "code",
   "execution_count": 7,
   "source": [
    "from math import sqrt\n",
    "assert sqrt(9) == 3"
   ],
   "outputs": [],
   "metadata": {}
  }
 ],
 "metadata": {
  "orig_nbformat": 4,
  "language_info": {
   "name": "python",
   "version": "3.9.6",
   "mimetype": "text/x-python",
   "codemirror_mode": {
    "name": "ipython",
    "version": 3
   },
   "pygments_lexer": "ipython3",
   "nbconvert_exporter": "python",
   "file_extension": ".py"
  },
  "kernelspec": {
   "name": "python3",
   "display_name": "Python 3.9.6 64-bit"
  },
  "interpreter": {
   "hash": "aee8b7b246df8f9039afb4144a1f6fd8d2ca17a180786b69acc140d282b71a49"
  }
 },
 "nbformat": 4,
 "nbformat_minor": 2
}