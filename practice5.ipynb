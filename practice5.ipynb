{
 "cells": [
  {
   "cell_type": "markdown",
   "source": [
    "# Sequence Unpacking: \n",
    "taking objects in a collection, returning multiple values and storing in separate variables. \n",
    "\n",
    "this is done by assigning a sequence to variables separated by commas. "
   ],
   "metadata": {}
  },
  {
   "cell_type": "code",
   "execution_count": 17,
   "source": [
    "position = (60, 12)\n",
    "x1, y1 = position\n",
    "print(x1)\n",
    "print(y1)"
   ],
   "outputs": [
    {
     "output_type": "stream",
     "name": "stdout",
     "text": [
      "60\n",
      "12\n"
     ]
    }
   ],
   "metadata": {}
  },
  {
   "cell_type": "markdown",
   "source": [
    "# Syntax for adding key/value pairs to dictionaries: \n",
    "use curly braces to create a dictionary, keys have a colon between itself and its corresponding values, can also use dict() to create a new dictionary \n",
    "\n",
    "creating a dictionary with values --> {key : value, key : value, ...}\n",
    "\n",
    "adding or updating a key/value pair --> dict[key] = value"
   ],
   "metadata": {}
  },
  {
   "cell_type": "code",
   "execution_count": 18,
   "source": [
    "dict = {'breakfast': \"cereal\", 'lunch': \"sandwich\", 'dinner': \"pizza\"}\n",
    "dict['snack'] = \"chips\"\n",
    "dict"
   ],
   "outputs": [
    {
     "output_type": "execute_result",
     "data": {
      "text/plain": [
       "{'breakfast': 'cereal',\n",
       " 'lunch': 'sandwich',\n",
       " 'dinner': 'pizza',\n",
       " 'snack': 'chips'}"
      ]
     },
     "metadata": {},
     "execution_count": 18
    }
   ],
   "metadata": {}
  },
  {
   "cell_type": "markdown",
   "source": [
    "# Syntax for using a key to retrieve a value from a dictionary: \n",
    "if you want to iterate over key/value pairs --> dict.items() method\n",
    "\n",
    "if you just need the values --> dict.values() method"
   ],
   "metadata": {}
  },
  {
   "cell_type": "code",
   "execution_count": 19,
   "source": [
    "dict = {'breakfast': \"cereal\", 'lunch': \"sandwich\", 'dinner': \"pizza\"}\n",
    "dict.values()"
   ],
   "outputs": [
    {
     "output_type": "execute_result",
     "data": {
      "text/plain": [
       "dict_values(['cereal', 'sandwich', 'pizza'])"
      ]
     },
     "metadata": {},
     "execution_count": 19
    }
   ],
   "metadata": {}
  },
  {
   "cell_type": "markdown",
   "source": [
    "# Union: \n",
    "all of the things in both sets (A and B), these items are only in the union one time because it cannot be in the set twice. \n",
    "\n",
    "basic method --> setA.union(setB)\n",
    "\n",
    "operator --> setA | setB\n",
    "\n",
    "in place method --> setA.update(setB)\n",
    "\n",
    "in place operator --> setA |= setB"
   ],
   "metadata": {}
  },
  {
   "cell_type": "code",
   "execution_count": 20,
   "source": [
    "A = {1, 3, 5, 7, 9}\n",
    "B = {5, 6, 7, 8, 9}\n",
    "A.union(B)"
   ],
   "outputs": [
    {
     "output_type": "execute_result",
     "data": {
      "text/plain": [
       "{1, 3, 5, 6, 7, 8, 9}"
      ]
     },
     "metadata": {},
     "execution_count": 20
    }
   ],
   "metadata": {}
  }
 ],
 "metadata": {
  "orig_nbformat": 4,
  "language_info": {
   "name": "python",
   "version": "3.9.6",
   "mimetype": "text/x-python",
   "codemirror_mode": {
    "name": "ipython",
    "version": 3
   },
   "pygments_lexer": "ipython3",
   "nbconvert_exporter": "python",
   "file_extension": ".py"
  },
  "kernelspec": {
   "name": "python3",
   "display_name": "Python 3.9.6 64-bit"
  },
  "interpreter": {
   "hash": "aee8b7b246df8f9039afb4144a1f6fd8d2ca17a180786b69acc140d282b71a49"
  }
 },
 "nbformat": 4,
 "nbformat_minor": 2
}