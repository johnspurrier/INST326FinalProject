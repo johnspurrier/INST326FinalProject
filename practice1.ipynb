{
 "cells": [
  {
   "cell_type": "markdown",
   "metadata": {},
   "source": [
    "# Conditional Expressions:\n",
    "\n",
    "Syntax: `EXPRESSION1 if CONDITION else EXPRESSION2`\n",
    "\n",
    "With a conditional expression, the result depends on meeting a condition."
   ]
  },
  {
   "cell_type": "code",
   "execution_count": 8,
   "metadata": {},
   "outputs": [],
   "source": [
    "# Example: Calculating someones grade on an exam \n",
    "def grade(score):\n",
    "    return 'pass' if score >= 64 else 'fail'"
   ]
  },
  {
   "cell_type": "code",
   "execution_count": 9,
   "metadata": {},
   "outputs": [
    {
     "data": {
      "text/plain": [
       "'pass'"
      ]
     },
     "execution_count": 9,
     "metadata": {},
     "output_type": "execute_result"
    }
   ],
   "source": [
    "grade(80)"
   ]
  },
  {
   "cell_type": "code",
   "execution_count": 10,
   "metadata": {},
   "outputs": [
    {
     "data": {
      "text/plain": [
       "'fail'"
      ]
     },
     "execution_count": 10,
     "metadata": {},
     "output_type": "execute_result"
    }
   ],
   "source": [
    "grade(42)"
   ]
  },
  {
   "cell_type": "markdown",
   "metadata": {},
   "source": [
    "# Passing Keyword Arguments to Functions:\n",
    "\n",
    "Syntax: def function(keyword/argument):\n",
    "\n",
    "Arguments are the values that correspond to and call the parameters in a function. Using the `KEYWORD=VALUE` syntax, some arguments are able to be specified as keyword arguments. Some parameters take optional keyword arguments as well, for example when using a print statement, you can use `sep` to separate keyword arguments by a certain character.\n"
   ]
  },
  {
   "cell_type": "code",
   "execution_count": 11,
   "metadata": {},
   "outputs": [
    {
     "name": "stdout",
     "output_type": "stream",
     "text": [
      "these strings~will be separated~using a tilde~with the sep keyword\n"
     ]
    }
   ],
   "source": [
    "print('these strings', 'will be separated', 'using a tilde', 'with the sep keyword', sep='~')"
   ]
  },
  {
   "cell_type": "markdown",
   "metadata": {},
   "source": [
    "# Defining Functions with Optional Parameters:\n",
    "\n",
    "Syntax: `PARAMETER=DEFAULT_VALUE`\n",
    "\n",
    "Optional parameters are parameters that can either be used with the default values or be assigned new values. These are similar to keyword arguments, but the main difference is that keyword arguments are often used to define optional parameters. \n"
   ]
  },
  {
   "cell_type": "code",
   "execution_count": 12,
   "metadata": {},
   "outputs": [],
   "source": [
    "# Example: calculating how many hours of homework students should get per day starting in 1st grade\n",
    "def homework_hours(hours, increased_amount=1):\n",
    "    return hours + increased_amount"
   ]
  },
  {
   "cell_type": "code",
   "execution_count": 13,
   "metadata": {},
   "outputs": [
    {
     "data": {
      "text/plain": [
       "4"
      ]
     },
     "execution_count": 13,
     "metadata": {},
     "output_type": "execute_result"
    }
   ],
   "source": [
    "homework_hours(3)"
   ]
  },
  {
   "cell_type": "code",
   "execution_count": 14,
   "metadata": {},
   "outputs": [
    {
     "data": {
      "text/plain": [
       "8"
      ]
     },
     "execution_count": 14,
     "metadata": {},
     "output_type": "execute_result"
    }
   ],
   "source": [
    "homework_hours(7)"
   ]
  }
 ],
 "metadata": {
  "interpreter": {
   "hash": "31f2aee4e71d21fbe5cf8b01ff0e069b9275f58929596ceb00d14d90e3e16cd6"
  },
  "kernelspec": {
   "display_name": "Python 3",
   "language": "python",
   "name": "python3"
  },
  "language_info": {
   "codemirror_mode": {
    "name": "ipython",
    "version": 3
   },
   "file_extension": ".py",
   "mimetype": "text/x-python",
   "name": "python",
   "nbconvert_exporter": "python",
   "pygments_lexer": "ipython3",
   "version": "3.8.5"
  }
 },
 "nbformat": 4,
 "nbformat_minor": 4
}
