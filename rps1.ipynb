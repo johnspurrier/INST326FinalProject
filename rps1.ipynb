{
 "cells": [
  {
   "cell_type": "code",
   "execution_count": 7,
   "metadata": {},
   "outputs": [],
   "source": [
    "def rps1(p1, p2):\n",
    "    \"\"\"Assume p1 and p2 are strings ('rock', 'paper', 'scissors')\"\"\"\n",
    "    if p1 == \"paper\":\n",
    "        if p2 == \"rock\":\n",
    "            return \"player 1\"\n",
    "        elif p2 == \"paper\":\n",
    "            return \"tie\"\n",
    "        else:\n",
    "            return \"player 2\"\n",
    "    if p1 == \"rock\":\n",
    "        if p2 == \"scissors\":\n",
    "            return \"player 1\"\n",
    "        elif p2 == \"rock\":\n",
    "            return \"tie\"\n",
    "        else: \n",
    "            return \"player 2\"\n",
    "    if p1 == \"scissors\":\n",
    "        if p2 == \"paper\":\n",
    "            return \"player 1\"\n",
    "        elif p2 == \"scissors\":\n",
    "            return \"tie\"\n",
    "        else: \n",
    "            return \"player 2\"\n"
   ]
  },
  {
   "cell_type": "code",
   "execution_count": 9,
   "metadata": {},
   "outputs": [],
   "source": [
    "def rps2(p1, p2):\n",
    "    if p1 == p2:\n",
    "        return \"tie\"\n",
    "    if (p1 == \"rock\" and p2 == \"scissors\"\n",
    "       or p1 == \"scissors\" and p2 == \"paper\"\n",
    "       or p1 == \"paper\" and p2 == \"rock\"):\n",
    "        return \"player 1\"\n",
    "    else:\n",
    "        return \"player 2\""
   ]
  }
 ],
 "metadata": {
  "kernelspec": {
   "display_name": "Python 3",
   "language": "python",
   "name": "python3"
  },
  "language_info": {
   "codemirror_mode": {
    "name": "ipython",
    "version": 3
   },
   "file_extension": ".py",
   "mimetype": "text/x-python",
   "name": "python",
   "nbconvert_exporter": "python",
   "pygments_lexer": "ipython3",
   "version": "3.8.5"
  }
 },
 "nbformat": 4,
 "nbformat_minor": 4
}
