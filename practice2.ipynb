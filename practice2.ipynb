{
 "cells": [
  {
   "cell_type": "markdown",
   "source": [
    "# f-strings\n",
    "f-strings are a way to plug values into string literals. they always start with f and include the expression in curly braces. \n",
    "\n",
    "python substitutes the expressions in curly braces with their defined variables. "
   ],
   "metadata": {}
  },
  {
   "cell_type": "code",
   "execution_count": 1,
   "source": [
    "food = \"cookies\"\n",
    "characteristic = \"delicious\"\n",
    "f\"{food} taste {characteristic}\""
   ],
   "outputs": [
    {
     "output_type": "execute_result",
     "data": {
      "text/plain": [
       "'cookies taste delicious'"
      ]
     },
     "metadata": {},
     "execution_count": 1
    }
   ],
   "metadata": {}
  },
  {
   "cell_type": "markdown",
   "source": [
    "# lists:\n",
    "## converting a container into a list: \n",
    "\n",
    "syntax: list(CONTAINER) \n",
    "\n",
    "this will make a list of all of the individual characters in the string and will output a list with the items in the container. \n",
    "\n",
    "## list.pop:  \n",
    "\n",
    "syntax: list.pop(INDEX)\n",
    "\n",
    ".pop is a method of removing an item from a list and returning it. after using .pop, the function will return the list without the item that was removed. \n",
    "\n"
   ],
   "metadata": {}
  },
  {
   "cell_type": "code",
   "execution_count": 2,
   "source": [
    "container1 = \"this is a container\"\n",
    "list(container1)"
   ],
   "outputs": [
    {
     "output_type": "execute_result",
     "data": {
      "text/plain": [
       "['t',\n",
       " 'h',\n",
       " 'i',\n",
       " 's',\n",
       " ' ',\n",
       " 'i',\n",
       " 's',\n",
       " ' ',\n",
       " 'a',\n",
       " ' ',\n",
       " 'c',\n",
       " 'o',\n",
       " 'n',\n",
       " 't',\n",
       " 'a',\n",
       " 'i',\n",
       " 'n',\n",
       " 'e',\n",
       " 'r']"
      ]
     },
     "metadata": {},
     "execution_count": 2
    }
   ],
   "metadata": {}
  },
  {
   "cell_type": "code",
   "execution_count": 6,
   "source": [
    "list1 = [\"eggs\", \"milk\", \"butter\", \"yogurt\"]\n",
    "list1.pop(1)\n",
    "print(list1) "
   ],
   "outputs": [
    {
     "output_type": "stream",
     "name": "stdout",
     "text": [
      "['eggs', 'butter', 'yogurt']\n"
     ]
    }
   ],
   "metadata": {}
  },
  {
   "cell_type": "markdown",
   "source": [
    "# reading contents of a file using with: \n",
    "using a with statement to open a file and read it using \"r\". the with statement closes the file when it is done reading it, allowing for less errors. \n",
    "\n",
    "# using the file object as an iterator with a for loop:\n",
    "a for loop allows the function to read each line of the file and stops when all of the lines are printed. "
   ],
   "metadata": {}
  },
  {
   "cell_type": "code",
   "execution_count": 10,
   "source": [
    "with open(\"shopping.txt\", \"r\", encoding=\"utf-8\") as f: \n",
    "    for line in f:\n",
    "        print(line.strip())"
   ],
   "outputs": [
    {
     "output_type": "stream",
     "name": "stdout",
     "text": [
      "headphones\n",
      "broccoli\n",
      "eggs\n",
      "stamps\n",
      "chicken\n"
     ]
    }
   ],
   "metadata": {}
  }
 ],
 "metadata": {
  "orig_nbformat": 4,
  "language_info": {
   "name": "python",
   "version": "3.9.6",
   "mimetype": "text/x-python",
   "codemirror_mode": {
    "name": "ipython",
    "version": 3
   },
   "pygments_lexer": "ipython3",
   "nbconvert_exporter": "python",
   "file_extension": ".py"
  },
  "kernelspec": {
   "name": "python3",
   "display_name": "Python 3.9.6 64-bit"
  },
  "interpreter": {
   "hash": "aee8b7b246df8f9039afb4144a1f6fd8d2ca17a180786b69acc140d282b71a49"
  }
 },
 "nbformat": 4,
 "nbformat_minor": 2
}