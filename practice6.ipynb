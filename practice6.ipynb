{
 "cells": [
  {
   "cell_type": "markdown",
   "source": [
    "# lambda expressions \n",
    "a way to create anonymous functions - the same as a function but can be defined without giving it a name, can take any number of arguments but only one expression \n",
    "\n",
    "syntax --> lambda parameter: expression "
   ],
   "metadata": {}
  },
  {
   "cell_type": "code",
   "execution_count": 4,
   "source": [
    "foods = [(\"breakfast\", \"cereal\"), (\"lunch\", \"wrap\"), (\"dinner\", \"chicken\")]\n",
    "for meal, food in sorted(foods, key= lambda t:t[1]):\n",
    "    print(f\"{food} is served for {meal}\")"
   ],
   "outputs": [
    {
     "output_type": "stream",
     "name": "stdout",
     "text": [
      "cereal is served for breakfast\n",
      "chicken is served for dinner\n",
      "wrap is served for lunch\n"
     ]
    }
   ],
   "metadata": {}
  },
  {
   "cell_type": "markdown",
   "source": [
    "# list comprehensions\n",
    "an expression that takes the place of a for loop and evaluates to a list, it can contain an if element with a condition, both the expression and the condition can use the iteration variable, keep all items for which the condition eveluates to True\n",
    "\n",
    "syntax --> [expr for itervar in iterable if condition]"
   ],
   "metadata": {}
  },
  {
   "cell_type": "code",
   "execution_count": 5,
   "source": [
    "numbers = [5, 10, 13, 7, 19, 25, 4, 15, 20, 6]\n",
    "even_num = [n for n in numbers if n % 2 ==0]\n",
    "print(even_num)"
   ],
   "outputs": [
    {
     "output_type": "stream",
     "name": "stdout",
     "text": [
      "[10, 4, 20, 6]\n"
     ]
    }
   ],
   "metadata": {}
  }
 ],
 "metadata": {
  "orig_nbformat": 4,
  "language_info": {
   "name": "python",
   "version": "3.9.6",
   "mimetype": "text/x-python",
   "codemirror_mode": {
    "name": "ipython",
    "version": 3
   },
   "pygments_lexer": "ipython3",
   "nbconvert_exporter": "python",
   "file_extension": ".py"
  },
  "kernelspec": {
   "name": "python3",
   "display_name": "Python 3.9.6 64-bit"
  },
  "interpreter": {
   "hash": "aee8b7b246df8f9039afb4144a1f6fd8d2ca17a180786b69acc140d282b71a49"
  }
 },
 "nbformat": 4,
 "nbformat_minor": 2
}