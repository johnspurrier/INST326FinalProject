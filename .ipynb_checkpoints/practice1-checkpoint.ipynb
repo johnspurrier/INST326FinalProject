{
 "cells": [
  {
   "cell_type": "markdown",
   "source": [
    "# Conditional Expressions:\n",
    "\n",
    "Syntax: `EXPRESSION1 if CONDITION else EXPRESSION2`\n",
    "\n",
    "With a conditional expression, the result depends on meeting a condition."
   ],
   "metadata": {}
  },
  {
   "cell_type": "code",
   "execution_count": null,
   "source": [
    "# Example: Calculating someones grade on an exam \n",
    "def grade(score):\n",
    "    return 'pass' if score >= 64 else 'fail'"
   ],
   "outputs": [],
   "metadata": {}
  },
  {
   "cell_type": "code",
   "execution_count": null,
   "source": [
    "grade(80)"
   ],
   "outputs": [],
   "metadata": {}
  },
  {
   "cell_type": "code",
   "execution_count": null,
   "source": [
    "grade(42)"
   ],
   "outputs": [],
   "metadata": {}
  },
  {
   "cell_type": "markdown",
   "source": [
    "# Passing Keyword Arguments to Functions:\n",
    "\n",
    "Syntax: def function(keyword/argument):\n",
    "\n",
    "Arguments are the values that correspond to and call the parameters in a function. Using the `KEYWORD=VALUE` syntax, some arguments are able to be specified as keyword arguments. Some parameters take optional keyword arguments as well, for example when using a print statement, you can use `sep` to separate keyword arguments by a certain character.\n"
   ],
   "metadata": {}
  },
  {
   "cell_type": "code",
   "execution_count": null,
   "source": [
    "print('these strings', 'will be separated', 'using a tilde', 'with the sep keyword', sep='~')"
   ],
   "outputs": [],
   "metadata": {}
  },
  {
   "cell_type": "markdown",
   "source": [
    "# Defining Functions with Optional Parameters:\n",
    "\n",
    "Syntax: `PARAMETER=DEFAULT_VALUE`\n",
    "\n",
    "Optional parameters are parameters that can either be used with the default values or be assigned new values. These are similar to keyword arguments, but the main difference is that keyword arguments are often used to define optional parameters. \n"
   ],
   "metadata": {}
  },
  {
   "cell_type": "code",
   "execution_count": null,
   "source": [
    "# Example: calculating how many hours of homework students should get per day starting in 1st grade\n",
    "def homework_hours(hours, increased_amount=1):\n",
    "    return hours + increased_amount"
   ],
   "outputs": [],
   "metadata": {}
  },
  {
   "cell_type": "code",
   "execution_count": null,
   "source": [
    "homework_hours(3)"
   ],
   "outputs": [],
   "metadata": {}
  },
  {
   "cell_type": "code",
   "execution_count": null,
   "source": [
    "homework_hours(7)"
   ],
   "outputs": [],
   "metadata": {}
  }
 ],
 "metadata": {
  "kernelspec": {
   "name": "python3",
   "display_name": "Python 3"
  },
  "language_info": {
   "codemirror_mode": {
    "name": "ipython",
    "version": 3
   },
   "file_extension": ".py",
   "mimetype": "text/x-python",
   "name": "python",
   "nbconvert_exporter": "python",
   "pygments_lexer": "ipython3",
   "version": "3"
  },
  "interpreter": {
   "hash": "31f2aee4e71d21fbe5cf8b01ff0e069b9275f58929596ceb00d14d90e3e16cd6"
  }
 },
 "nbformat": 4,
 "nbformat_minor": 4
}