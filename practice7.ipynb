{
 "cells": [
  {
   "cell_type": "markdown",
   "source": [
    "# Inheritance: \n",
    "a way to define a class that will inherit all of its methods and properties from its parent class\n",
    "\n",
    "declare the name of the parents as an argument in the class definition, all features of the parent are automatically available on the child class\n",
    "\n",
    "features can be added or changed (overridden) on the child class"
   ],
   "metadata": {}
  },
  {
   "cell_type": "code",
   "execution_count": 32,
   "source": [
    "class Animal():\n",
    "    def __init__(self, sound): \n",
    "        self.sound = sound\n",
    "\n",
    "class Dog(Animal): \n",
    "    def bark(self):\n",
    "        print(\"the dog says\" + self.sound)\n",
    "\n",
    "class Pig(Animal): \n",
    "    def oink(self):\n",
    "        print(\"the pig says\" + self.sound)\n",
    "        \n",
    "dog = Dog(sound = \" woof\")\n",
    "dog.bark()\n",
    "            "
   ],
   "outputs": [
    {
     "output_type": "stream",
     "name": "stdout",
     "text": [
      "the dog says woof\n"
     ]
    }
   ],
   "metadata": {}
  },
  {
   "cell_type": "markdown",
   "source": [
    "# Composition:\n",
    "a way to model relationships using the combination of multiple objects to create a more complex object type (formation, constitution, construction, making up) --> things are made from other things "
   ],
   "metadata": {}
  },
  {
   "cell_type": "code",
   "execution_count": 33,
   "source": [
    " class Flavor(): \n",
    "    def __init__(self, name, category): \n",
    "        self.name = name\n",
    "        self.category = category\n",
    "flavor = Flavor(\"chocolate\", 2)\n",
    "print(flavor)\n",
    "\n",
    "class Size(): \n",
    "    def __init__(self): \n",
    "        self.flavors = []\n",
    "    def add_scoop(self, flavor):\n",
    "        self.flavors.append(flavor)\n",
    "size = Size()\n",
    "print(size)"
   ],
   "outputs": [
    {
     "output_type": "stream",
     "name": "stdout",
     "text": [
      "<__main__.Flavor object at 0x105b19610>\n",
      "<__main__.Size object at 0x105bbcc40>\n"
     ]
    }
   ],
   "metadata": {}
  }
 ],
 "metadata": {
  "orig_nbformat": 4,
  "language_info": {
   "name": "python",
   "version": "3.9.6",
   "mimetype": "text/x-python",
   "codemirror_mode": {
    "name": "ipython",
    "version": 3
   },
   "pygments_lexer": "ipython3",
   "nbconvert_exporter": "python",
   "file_extension": ".py"
  },
  "kernelspec": {
   "name": "python3",
   "display_name": "Python 3.9.6 64-bit"
  },
  "interpreter": {
   "hash": "aee8b7b246df8f9039afb4144a1f6fd8d2ca17a180786b69acc140d282b71a49"
  }
 },
 "nbformat": 4,
 "nbformat_minor": 2
}