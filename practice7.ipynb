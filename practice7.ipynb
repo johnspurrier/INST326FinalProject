{
 "cells": [
  {
   "cell_type": "markdown",
   "metadata": {},
   "source": [
    "# Inheritance: \n",
    "a way to define a class that will inherit all of its methods and properties from its parent class\n",
    "\n",
    "declare the name of the parents as an argument in the class definition, all features of the parent are automatically available on the child class\n",
    "\n",
    "features can be added or changed (overridden) on the child class"
   ]
  },
  {
   "cell_type": "code",
   "execution_count": 32,
   "metadata": {},
   "outputs": [
    {
     "name": "stdout",
     "output_type": "stream",
     "text": [
      "the dog says woof\n"
     ]
    }
   ],
   "source": [
    "class Animal():\n",
    "    def __init__(self, sound): \n",
    "        self.sound = sound\n",
    "\n",
    "class Dog(Animal): \n",
    "    def bark(self):\n",
    "        print(\"the dog says\" + self.sound)\n",
    "\n",
    "class Pig(Animal): \n",
    "    def oink(self):\n",
    "        print(\"the pig says\" + self.sound)\n",
    "        \n",
    "dog = Dog(sound = \" woof\")\n",
    "dog.bark()\n",
    "            "
   ]
  },
  {
   "cell_type": "markdown",
   "metadata": {},
   "source": [
    "# Composition:\n",
    "a way to model relationships using the combination of multiple objects to create a more complex object type (formation, constitution, construction, making up) --> things are made from other things "
   ]
  },
  {
   "cell_type": "code",
   "execution_count": 33,
   "metadata": {},
   "outputs": [
    {
     "name": "stdout",
     "output_type": "stream",
     "text": [
      "<__main__.Flavor object at 0x105b19610>\n",
      "<__main__.Size object at 0x105bbcc40>\n"
     ]
    }
   ],
   "source": [
    " class Flavor(): \n",
    "    def __init__(self, name, category): \n",
    "        self.name = name\n",
    "        self.category = category\n",
    "flavor = Flavor(\"chocolate\", 2)\n",
    "print(flavor)\n",
    "\n",
    "class Size(): \n",
    "    def __init__(self): \n",
    "        self.flavors = []\n",
    "    def add_scoop(self, flavor):\n",
    "        self.flavors.append(flavor)\n",
    "size = Size()\n",
    "print(size)"
   ]
  }
 ],
 "metadata": {
  "interpreter": {
   "hash": "aee8b7b246df8f9039afb4144a1f6fd8d2ca17a180786b69acc140d282b71a49"
  },
  "kernelspec": {
   "display_name": "Python 3.9.6 64-bit",
   "name": "python3"
  },
  "language_info": {
   "codemirror_mode": {
    "name": "ipython",
    "version": 3
   },
   "file_extension": ".py",
   "mimetype": "text/x-python",
   "name": "python",
   "nbconvert_exporter": "python",
   "pygments_lexer": "ipython3",
   "version": "3.9.6"
  },
  "orig_nbformat": 4
 },
 "nbformat": 4,
 "nbformat_minor": 2
}
