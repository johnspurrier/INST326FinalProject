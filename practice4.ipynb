{
 "cells": [
  {
   "cell_type": "markdown",
   "source": [
    "# Class\n",
    "A class is a type of object in python. Classes define data types and are used to instantiate objects, they also define how operators and other features behave when we create objects.\n",
    "\n",
    "examples - int, str, float, list, bool"
   ],
   "metadata": {}
  },
  {
   "cell_type": "markdown",
   "source": [
    "# Method\n",
    "A method is a function declared inside of a class, they almost always require self as the first parameter of the function. Methods can be used to call objects in a class. \n",
    "\n",
    "examples - .append(), .upper(), .close()"
   ],
   "metadata": {}
  },
  {
   "cell_type": "markdown",
   "source": [
    "# Attribute\n",
    "An attribute associates the data with a particular object, attributes are owned by the class and will be shared for all instances of the class. "
   ],
   "metadata": {}
  },
  {
   "cell_type": "code",
   "execution_count": 3,
   "source": [
    "import random\n",
    "\n",
    "class Food:\n",
    "    def __init__(self, meal):\n",
    "        self.meal = meal\n",
    "        self.describe()\n",
    "    \n",
    "    def describe(self, other=None):\n",
    "        describe = random.choice([\"breakfast\", \"lunch\", \"dinner\"])\n",
    "        if other is None: \n",
    "            print(f\"{describe}!\")\n",
    "        else: \n",
    "            print(f\"{self.meal} is {describe}.\")"
   ],
   "outputs": [],
   "metadata": {}
  }
 ],
 "metadata": {
  "orig_nbformat": 4,
  "language_info": {
   "name": "python",
   "version": "3.9.6",
   "mimetype": "text/x-python",
   "codemirror_mode": {
    "name": "ipython",
    "version": 3
   },
   "pygments_lexer": "ipython3",
   "nbconvert_exporter": "python",
   "file_extension": ".py"
  },
  "kernelspec": {
   "name": "python3",
   "display_name": "Python 3.9.6 64-bit"
  },
  "interpreter": {
   "hash": "aee8b7b246df8f9039afb4144a1f6fd8d2ca17a180786b69acc140d282b71a49"
  }
 },
 "nbformat": 4,
 "nbformat_minor": 2
}